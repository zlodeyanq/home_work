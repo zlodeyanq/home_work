{
 "cells": [
  {
   "cell_type": "code",
   "execution_count": null,
   "metadata": {},
   "outputs": [],
   "source": [
    "%matplotlib inline\n",
    "# Dependencies and Setup\n",
    "import matplotlib.pyplot as plt\n",
    "import pandas as pd\n",
    "import numpy as np\n",
    "\n",
    "# File to Load (Remember to change these)\n",
    "city_data_to_load = \"data/city_data.csv\"\n",
    "ride_data_to_load = \"data/ride_data.csv\"\n",
    "\n",
    "# Read the City and Ride Data\n",
    "city_df = pd.read_csv(city_data_to_load)\n",
    "ride_df = pd.read_csv(ride_data_to_load)\n",
    "\n",
    "# Combine the data into a single dataset\n",
    "df = pd.merge(city_df,ride_df, on='city')\n",
    "# Display the data table for preview\n",
    "df.head()\n",
    "\n"
   ]
  },
  {
   "cell_type": "code",
   "execution_count": null,
   "metadata": {
    "scrolled": true
   },
   "outputs": [],
   "source": [
    "group_city = df.groupby('city')\n",
    "#Segment Urban, Suburban and Rural\n",
    "df_urban = df[df.type == 'Urban']\n",
    "df_suburban = df[df.type == 'Suburban']\n",
    "df_rural = df[df.type == 'Rural']\n",
    "\n",
    "#Calculate number of rides \n",
    "x_urban = df_urban.groupby(\"city\")[\"ride_id\"].count()\n",
    "x_suburban = df_suburban.groupby(\"city\")[\"ride_id\"].count()\n",
    "x_rural = df_rural.groupby('city')['ride_id'].count()\n",
    "\n",
    "#Calculate average fare\n",
    "y_urban = df_urban.groupby(\"city\")[\"fare\"].mean()\n",
    "y_suburban = df_suburban.groupby(\"city\")[\"fare\"].mean()\n",
    "y_rural = df_rural.groupby(\"city\")[\"fare\"].mean()\n",
    "\n",
    "#Driver count \n",
    "z_urban = df_urban.groupby(\"city\")[\"fare\"].sum()\n",
    "z_suburban = df_suburban.groupby(\"city\")[\"fare\"].sum()\n",
    "z_rural = df_rural.groupby(\"city\")[\"fare\"].sum()\n",
    "\n",
    "\n"
   ]
  },
  {
   "cell_type": "code",
   "execution_count": null,
   "metadata": {},
   "outputs": [],
   "source": [
    "#Plot \n",
    "plt.scatter(x_urban, y_urban, s=z_urban*1, c=\"red\", alpha=0.3, edgecolors=\"red\", linewidth=0.5)\n",
    "plt.scatter(x_suburban, y_suburban, s=z_suburban*1, c=\"blue\", alpha=0.3, edgecolors=\"red\", linewidth=0.5)\n",
    "plt.scatter(x_rural, y_rural, s=z_rural*1, c=\"yellow\", alpha=0.3, edgecolors=\"red\", linewidth=0.5)\n",
    "\n",
    "# Create a legend\n",
    "plt.title(\"Pyber Ride Sharing Data (2016)\")\n",
    "plt.xlabel(\"Total Number of Riders (Per City)\")\n",
    "plt.ylabel(\"Average Fare ($)\")\n",
    "plt.legend([\"Urban\",\"Suburba\",\"Rural\"], shadow=True, fontsize=\"medium\", markerscale=0.55)\n",
    "plt.grid(color='grey', linestyle='-', linewidth=0.5)\n",
    "\n",
    "\n",
    "\n",
    "\n",
    "\n"
   ]
  },
  {
   "cell_type": "code",
   "execution_count": null,
   "metadata": {},
   "outputs": [],
   "source": [
    "# Calculate Total rides by city type\n",
    "rides_urban = df_urban[\"ride_id\"].nunique()\n",
    "rides_suburban = df_suburban[\"ride_id\"].nunique()\n",
    "rides_rural = df_rural['ride_id'].nunique()\n",
    "\n",
    "# Calculate Total fares by city type\n",
    "fare_urban = df_urban[\"fare\"].sum()\n",
    "fare_suburban = df_suburban[\"fare\"].sum()\n",
    "fare_rural = df_rural['fare'].sum()\n",
    "\n",
    "\n",
    "# Calculate Total drivers by city type\n",
    "drivers_urban = df_urban[\"driver_count\"].sum()\n",
    "drivers_suburban = df_suburban[\"driver_count\"].sum()\n",
    "drivers_rural = df_rural['driver_count'].sum()\n",
    "\n",
    "print(fare_urban)\n",
    "print(drivers_urban)\n",
    "\n"
   ]
  },
  {
   "cell_type": "code",
   "execution_count": null,
   "metadata": {},
   "outputs": [],
   "source": [
    "# Build Pie Chart Total rides by city type\n",
    "labels = 'Urban', 'Suburban', 'Rural',\n",
    "sizes = [rides_urban, rides_suburban, rides_rural]\n",
    "fig, ax = plt.subplots()\n",
    "explode = (0.1, 0, 0)\n",
    "ax.pie(sizes, explode=explode, labels=labels, autopct='%.1f%%')\n",
    "ax.set_aspect('equal')\n",
    "plt.title('Pie Chart Total rides by city type')\n",
    "plt.show()"
   ]
  },
  {
   "cell_type": "code",
   "execution_count": null,
   "metadata": {},
   "outputs": [],
   "source": [
    "# Build pie chart fares\n",
    "labels = 'Urban', 'Suburban', 'Rural',\n",
    "sizes = [fare_urban, fare_suburban, fare_rural]\n",
    "fig, ax = plt.subplots()\n",
    "explode = (0.1, 0, 0)\n",
    "ax.pie(sizes, explode=explode, labels=labels, autopct='%.1f%%')\n",
    "ax.set_aspect('equal')\n",
    "plt.title('pie chart fares')\n",
    "\n",
    "\n",
    "plt.show()\n",
    "\n"
   ]
  },
  {
   "cell_type": "code",
   "execution_count": null,
   "metadata": {},
   "outputs": [],
   "source": [
    "# Build pie chart drivers\n",
    "labels = 'Urban', 'Suburban', 'Rural',\n",
    "sizes = [drivers_urban, drivers_suburban, drivers_rural]\n",
    "fig, ax = plt.subplots()\n",
    "explode = (0.2, 0, 0)\n",
    "ax.pie(sizes, explode = explode, labels=labels, autopct='%.1f%%')\n",
    "ax.set_aspect('equal')\n",
    "plt.title('pie chart drivers')\n",
    "\n",
    "\n",
    "plt.show()\n"
   ]
  },
  {
   "cell_type": "code",
   "execution_count": null,
   "metadata": {},
   "outputs": [],
   "source": []
  }
 ],
 "metadata": {
  "anaconda-cloud": {},
  "kernelspec": {
   "display_name": "Python 3",
   "language": "python",
   "name": "python3"
  },
  "language_info": {
   "codemirror_mode": {
    "name": "ipython",
    "version": 3
   },
   "file_extension": ".py",
   "mimetype": "text/x-python",
   "name": "python",
   "nbconvert_exporter": "python",
   "pygments_lexer": "ipython3",
   "version": "3.7.3"
  }
 },
 "nbformat": 4,
 "nbformat_minor": 2
}
